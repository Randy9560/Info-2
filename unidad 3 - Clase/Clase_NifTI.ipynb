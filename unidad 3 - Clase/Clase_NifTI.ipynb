{
 "cells": [
  {
   "cell_type": "markdown",
   "metadata": {},
   "source": [
    "NIFTI\n",
    "\n",
    "Sirve mas que todo para modificar y configurar las imnagenes"
   ]
  },
  {
   "cell_type": "markdown",
   "metadata": {},
   "source": [
    "dicom2nifti\n",
    "\n",
    "lit nos sirve para pasar de archivos dicom a nifti"
   ]
  },
  {
   "cell_type": "markdown",
   "metadata": {},
   "source": [
    "LIBRERIAS PARA VISUALIZACION\n",
    "\n",
    "- Nilearn\n",
    "\n",
    "    Diseñada especificamente para el analisis de neuroimagen. Facilita la visualizacion y el analisis de datos obtenidos atraves de tecnicas de neuroimagen, solo resive datos en formato de NifTI\n",
    "\n",
    "    - intalacion\n",
    "    \n",
    "        pip intall nylearn\n",
    "\n",
    "- Nibabel\n",
    "\n",
    "    Lo mismo de nilearn solo que menos pro, las unicas ventajas son la manipulacion de datos, facilita acceso a datos y conversion de estos mismos\n",
    "\n",
    "    - instalacion\n",
    "\n",
    "        pip install nibabel "
   ]
  }
 ],
 "metadata": {
  "kernelspec": {
   "display_name": "Python 3",
   "language": "python",
   "name": "python3"
  },
  "language_info": {
   "name": "python",
   "version": "3.11.3"
  },
  "orig_nbformat": 4
 },
 "nbformat": 4,
 "nbformat_minor": 2
}
