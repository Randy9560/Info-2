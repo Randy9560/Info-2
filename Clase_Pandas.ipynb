{
 "cells": [
  {
   "cell_type": "code",
   "execution_count": 3,
   "metadata": {},
   "outputs": [],
   "source": [
    "import pandas as pd\n",
    "import numpy as np"
   ]
  },
  {
   "cell_type": "markdown",
   "metadata": {},
   "source": [
    "Hoy se va a trabajar con PANDAS"
   ]
  },
  {
   "cell_type": "markdown",
   "metadata": {},
   "source": [
    "Series\n",
    "\n",
    "Es una matriz unidimensional capaz de contener cualquier tipo de datos, en teroria, cada columna deberia tener un tipo de dato en especifico.                  \n",
    "Las etiquetas de los ejes se conocen como el INDICE.                                                                                                        \n",
    "Cuando tiene mas de un indice de columna se conoce como DATAFRAME\n",
    "\n",
    "\n"
   ]
  },
  {
   "cell_type": "code",
   "execution_count": null,
   "metadata": {},
   "outputs": [],
   "source": [
    "serie = pd.Series('data', index='index')"
   ]
  },
  {
   "cell_type": "markdown",
   "metadata": {},
   "source": [
    "La data puede ser un diccionario de python, un ndarray o un valor escalar.                                                                                     \n",
    "El indice pasado es una lista de etiquetas de eje."
   ]
  },
  {
   "cell_type": "code",
   "execution_count": null,
   "metadata": {},
   "outputs": [],
   "source": [
    "s = pd.Series([1,2,5])\n",
    "print(s)"
   ]
  },
  {
   "cell_type": "markdown",
   "metadata": {},
   "source": [
    "Si data es un ndarray, el indice debe tener la misma longitud que los datos.                                                                                  \n",
    "Si no se pasa ningun indice, se creara uno con valores. [0,...,len(data)-1]"
   ]
  },
  {
   "cell_type": "code",
   "execution_count": 37,
   "metadata": {},
   "outputs": [
    {
     "name": "stdout",
     "output_type": "stream",
     "text": [
      "a   -0.786845\n",
      "b    0.804678\n",
      "c   -0.890730\n",
      "d   -0.427515\n",
      "e   -0.161738\n",
      "dtype: float64\n"
     ]
    },
    {
     "data": {
      "text/plain": [
       "Index(['a', 'b', 'c', 'd', 'e'], dtype='object')"
      ]
     },
     "execution_count": 37,
     "metadata": {},
     "output_type": "execute_result"
    }
   ],
   "source": [
    "s = pd.Series(np.random.randn(5), index = ['a','b','c','d','e'])\n",
    "print(s)\n",
    "s.index"
   ]
  },
  {
   "cell_type": "markdown",
   "metadata": {},
   "source": [
    "Si data es un diccionario:"
   ]
  },
  {
   "cell_type": "code",
   "execution_count": 30,
   "metadata": {},
   "outputs": [
    {
     "name": "stdout",
     "output_type": "stream",
     "text": [
      "b    1\n",
      "a    0\n",
      "c    2\n",
      "dtype: int64\n"
     ]
    }
   ],
   "source": [
    "d = {'b':1, 'a':0,'c':2}\n",
    "s1 = pd.Series(d)\n",
    "print(s1)"
   ]
  },
  {
   "cell_type": "code",
   "execution_count": 33,
   "metadata": {},
   "outputs": [
    {
     "name": "stderr",
     "output_type": "stream",
     "text": [
      "C:\\Users\\DRA01\\AppData\\Local\\Temp\\ipykernel_7108\\643609873.py:1: FutureWarning: Series.__getitem__ treating keys as positions is deprecated. In a future version, integer keys will always be treated as labels (consistent with DataFrame behavior). To access a value by position, use `ser.iloc[pos]`\n",
      "  s1[0]\n"
     ]
    },
    {
     "data": {
      "text/plain": [
       "1"
      ]
     },
     "execution_count": 33,
     "metadata": {},
     "output_type": "execute_result"
    }
   ],
   "source": [
    "s1[0]"
   ]
  },
  {
   "cell_type": "code",
   "execution_count": 39,
   "metadata": {},
   "outputs": [
    {
     "name": "stderr",
     "output_type": "stream",
     "text": [
      "C:\\Users\\DRA01\\AppData\\Local\\Temp\\ipykernel_7108\\120827750.py:3: FutureWarning: Series.__getitem__ treating keys as positions is deprecated. In a future version, integer keys will always be treated as labels (consistent with DataFrame behavior). To access a value by position, use `ser.iloc[pos]`\n",
      "  s[-1]\n"
     ]
    },
    {
     "data": {
      "text/plain": [
       "-0.16173813136846044"
      ]
     },
     "execution_count": 39,
     "metadata": {},
     "output_type": "execute_result"
    }
   ],
   "source": [
    "s[:3]\n",
    "s[3:]\n",
    "s[-1]"
   ]
  },
  {
   "cell_type": "markdown",
   "metadata": {},
   "source": [
    "Con un escalar simplemente le va a poner ese escalar a tantos index hayan"
   ]
  },
  {
   "cell_type": "markdown",
   "metadata": {},
   "source": [
    "Operaciones con las series"
   ]
  },
  {
   "cell_type": "code",
   "execution_count": 42,
   "metadata": {},
   "outputs": [
    {
     "name": "stderr",
     "output_type": "stream",
     "text": [
      "C:\\Users\\DRA01\\AppData\\Local\\Temp\\ipykernel_7108\\4155701467.py:7: FutureWarning: Series.__getitem__ treating keys as positions is deprecated. In a future version, integer keys will always be treated as labels (consistent with DataFrame behavior). To access a value by position, use `ser.iloc[pos]`\n",
      "  s[[4,3,1]]\n"
     ]
    },
    {
     "data": {
      "text/plain": [
       "b    0.804678\n",
       "e   -0.161738\n",
       "dtype: float64"
      ]
     },
     "execution_count": 42,
     "metadata": {},
     "output_type": "execute_result"
    }
   ],
   "source": [
    "#Mediana de la serie\n",
    "\n",
    "s.median()\n",
    "\n",
    "#Visualizar segun las posiciones\n",
    "\n",
    "s[[4,3,1]]\n",
    "\n",
    "#filtrar\n",
    "\n",
    "s[s > s.median()]"
   ]
  },
  {
   "cell_type": "markdown",
   "metadata": {},
   "source": [
    "Para ver de otra manera las Series se pueden usar los siguientes metodos:"
   ]
  },
  {
   "cell_type": "code",
   "execution_count": 43,
   "metadata": {},
   "outputs": [
    {
     "data": {
      "text/plain": [
       "<NumpyExtensionArray>\n",
       "[  -0.786844996155903,   0.8046783334252464,  -0.8907304412342179,\n",
       " -0.42751464917667403, -0.16173813136846044]\n",
       "Length: 5, dtype: float64"
      ]
     },
     "execution_count": 43,
     "metadata": {},
     "output_type": "execute_result"
    }
   ],
   "source": [
    "s.array"
   ]
  },
  {
   "cell_type": "code",
   "execution_count": 44,
   "metadata": {},
   "outputs": [
    {
     "data": {
      "text/plain": [
       "<bound method NDFrame.to_xarray of a   -0.786845\n",
       "b    0.804678\n",
       "c   -0.890730\n",
       "d   -0.427515\n",
       "e   -0.161738\n",
       "dtype: float64>"
      ]
     },
     "execution_count": 44,
     "metadata": {},
     "output_type": "execute_result"
    }
   ],
   "source": [
    "s.to_xarray"
   ]
  },
  {
   "cell_type": "markdown",
   "metadata": {},
   "source": [
    "Operaciones"
   ]
  },
  {
   "cell_type": "code",
   "execution_count": null,
   "metadata": {},
   "outputs": [],
   "source": [
    "# Suma\n",
    "\n",
    "s[1:] + s[:-1]\n",
    "\n",
    "# Multiplicacion \n",
    "s*2\n",
    "\n",
    "#Division\n",
    "\n",
    "s / 2\n",
    "\n",
    "#Exponencial\n",
    "\n",
    "np.exp(s)\n",
    "\n",
    "#Para borrar los NaN\n",
    "\n",
    "withnan = s[1:] + s[:-1]\n",
    "withoutnan = withnan.dropna()\n",
    "print(withoutnan)"
   ]
  },
  {
   "cell_type": "markdown",
   "metadata": {},
   "source": [
    "Para practicar "
   ]
  },
  {
   "cell_type": "code",
   "execution_count": 59,
   "metadata": {},
   "outputs": [
    {
     "name": "stdout",
     "output_type": "stream",
     "text": [
      "       Group Sexo  Age  Educ  SES  MMSE  CDR  eTIV   nWBV    ASF\n",
      "0    Control    F   87    14    2    27  0.0  1987  0.696  0.883\n",
      "1    Control    F   88    14    2    30  0.0  2004  0.681  0.876\n",
      "2        DCL    F   75    12    3    23  0.5  1678  0.736  1.046\n",
      "3        DCL    F   76    12    2    28  0.5  1738  0.713  1.010\n",
      "4        DCL    F   80    12    3    22  0.5  1698  0.701  1.034\n",
      "..       ...  ...  ...   ...  ...   ...  ...   ...    ...    ...\n",
      "368      DCL    F   82    16    1    28  0.5  1693  0.694  1.037\n",
      "369      DCL    F   86    16    1    26  0.5  1688  0.675  1.040\n",
      "370  Control    M   61    13    2    30  0.0  1319  0.801  1.331\n",
      "371  Control    M   63    13    2    30  0.0  1327  0.796  1.323\n",
      "372  Control    M   65    13    2    30  0.0  1333  0.801  1.317\n",
      "\n",
      "[373 rows x 10 columns]\n"
     ]
    }
   ],
   "source": [
    "import os\n",
    "import glob\n",
    "\n",
    "ubi = os.getcwd()\n",
    "file = glob.glob(ubi + '/*.csv')\n",
    "mmse = pd.read_csv(file[0],sep = ';')\n",
    "print(mmse)"
   ]
  },
  {
   "cell_type": "code",
   "execution_count": 78,
   "metadata": {},
   "outputs": [
    {
     "data": {
      "text/html": [
       "<div>\n",
       "<style scoped>\n",
       "    .dataframe tbody tr th:only-of-type {\n",
       "        vertical-align: middle;\n",
       "    }\n",
       "\n",
       "    .dataframe tbody tr th {\n",
       "        vertical-align: top;\n",
       "    }\n",
       "\n",
       "    .dataframe thead th {\n",
       "        text-align: right;\n",
       "    }\n",
       "</style>\n",
       "<table border=\"1\" class=\"dataframe\">\n",
       "  <thead>\n",
       "    <tr style=\"text-align: right;\">\n",
       "      <th></th>\n",
       "      <th>index</th>\n",
       "      <th>Group</th>\n",
       "      <th>Sexo</th>\n",
       "      <th>Age</th>\n",
       "      <th>Educ</th>\n",
       "      <th>SES</th>\n",
       "      <th>MMSE</th>\n",
       "      <th>CDR</th>\n",
       "      <th>eTIV</th>\n",
       "      <th>nWBV</th>\n",
       "      <th>ASF</th>\n",
       "    </tr>\n",
       "  </thead>\n",
       "  <tbody>\n",
       "    <tr>\n",
       "      <th>0</th>\n",
       "      <td>0</td>\n",
       "      <td>Control</td>\n",
       "      <td>F</td>\n",
       "      <td>87</td>\n",
       "      <td>14</td>\n",
       "      <td>2</td>\n",
       "      <td>27</td>\n",
       "      <td>0.0</td>\n",
       "      <td>1987</td>\n",
       "      <td>0.696</td>\n",
       "      <td>0.883</td>\n",
       "    </tr>\n",
       "    <tr>\n",
       "      <th>1</th>\n",
       "      <td>1</td>\n",
       "      <td>Control</td>\n",
       "      <td>F</td>\n",
       "      <td>88</td>\n",
       "      <td>14</td>\n",
       "      <td>2</td>\n",
       "      <td>30</td>\n",
       "      <td>0.0</td>\n",
       "      <td>2004</td>\n",
       "      <td>0.681</td>\n",
       "      <td>0.876</td>\n",
       "    </tr>\n",
       "    <tr>\n",
       "      <th>2</th>\n",
       "      <td>2</td>\n",
       "      <td>DCL</td>\n",
       "      <td>F</td>\n",
       "      <td>75</td>\n",
       "      <td>12</td>\n",
       "      <td>3</td>\n",
       "      <td>23</td>\n",
       "      <td>0.5</td>\n",
       "      <td>1678</td>\n",
       "      <td>0.736</td>\n",
       "      <td>1.046</td>\n",
       "    </tr>\n",
       "    <tr>\n",
       "      <th>3</th>\n",
       "      <td>3</td>\n",
       "      <td>DCL</td>\n",
       "      <td>F</td>\n",
       "      <td>76</td>\n",
       "      <td>12</td>\n",
       "      <td>2</td>\n",
       "      <td>28</td>\n",
       "      <td>0.5</td>\n",
       "      <td>1738</td>\n",
       "      <td>0.713</td>\n",
       "      <td>1.010</td>\n",
       "    </tr>\n",
       "    <tr>\n",
       "      <th>4</th>\n",
       "      <td>4</td>\n",
       "      <td>DCL</td>\n",
       "      <td>F</td>\n",
       "      <td>80</td>\n",
       "      <td>12</td>\n",
       "      <td>3</td>\n",
       "      <td>22</td>\n",
       "      <td>0.5</td>\n",
       "      <td>1698</td>\n",
       "      <td>0.701</td>\n",
       "      <td>1.034</td>\n",
       "    </tr>\n",
       "    <tr>\n",
       "      <th>...</th>\n",
       "      <td>...</td>\n",
       "      <td>...</td>\n",
       "      <td>...</td>\n",
       "      <td>...</td>\n",
       "      <td>...</td>\n",
       "      <td>...</td>\n",
       "      <td>...</td>\n",
       "      <td>...</td>\n",
       "      <td>...</td>\n",
       "      <td>...</td>\n",
       "      <td>...</td>\n",
       "    </tr>\n",
       "    <tr>\n",
       "      <th>368</th>\n",
       "      <td>368</td>\n",
       "      <td>DCL</td>\n",
       "      <td>F</td>\n",
       "      <td>82</td>\n",
       "      <td>16</td>\n",
       "      <td>1</td>\n",
       "      <td>28</td>\n",
       "      <td>0.5</td>\n",
       "      <td>1693</td>\n",
       "      <td>0.694</td>\n",
       "      <td>1.037</td>\n",
       "    </tr>\n",
       "    <tr>\n",
       "      <th>369</th>\n",
       "      <td>369</td>\n",
       "      <td>DCL</td>\n",
       "      <td>F</td>\n",
       "      <td>86</td>\n",
       "      <td>16</td>\n",
       "      <td>1</td>\n",
       "      <td>26</td>\n",
       "      <td>0.5</td>\n",
       "      <td>1688</td>\n",
       "      <td>0.675</td>\n",
       "      <td>1.040</td>\n",
       "    </tr>\n",
       "    <tr>\n",
       "      <th>370</th>\n",
       "      <td>370</td>\n",
       "      <td>Control</td>\n",
       "      <td>M</td>\n",
       "      <td>61</td>\n",
       "      <td>13</td>\n",
       "      <td>2</td>\n",
       "      <td>30</td>\n",
       "      <td>0.0</td>\n",
       "      <td>1319</td>\n",
       "      <td>0.801</td>\n",
       "      <td>1.331</td>\n",
       "    </tr>\n",
       "    <tr>\n",
       "      <th>371</th>\n",
       "      <td>371</td>\n",
       "      <td>Control</td>\n",
       "      <td>M</td>\n",
       "      <td>63</td>\n",
       "      <td>13</td>\n",
       "      <td>2</td>\n",
       "      <td>30</td>\n",
       "      <td>0.0</td>\n",
       "      <td>1327</td>\n",
       "      <td>0.796</td>\n",
       "      <td>1.323</td>\n",
       "    </tr>\n",
       "    <tr>\n",
       "      <th>372</th>\n",
       "      <td>372</td>\n",
       "      <td>Control</td>\n",
       "      <td>M</td>\n",
       "      <td>65</td>\n",
       "      <td>13</td>\n",
       "      <td>2</td>\n",
       "      <td>30</td>\n",
       "      <td>0.0</td>\n",
       "      <td>1333</td>\n",
       "      <td>0.801</td>\n",
       "      <td>1.317</td>\n",
       "    </tr>\n",
       "  </tbody>\n",
       "</table>\n",
       "<p>373 rows × 11 columns</p>\n",
       "</div>"
      ],
      "text/plain": [
       "     index    Group Sexo  Age  Educ  SES  MMSE  CDR  eTIV   nWBV    ASF\n",
       "0        0  Control    F   87    14    2    27  0.0  1987  0.696  0.883\n",
       "1        1  Control    F   88    14    2    30  0.0  2004  0.681  0.876\n",
       "2        2      DCL    F   75    12    3    23  0.5  1678  0.736  1.046\n",
       "3        3      DCL    F   76    12    2    28  0.5  1738  0.713  1.010\n",
       "4        4      DCL    F   80    12    3    22  0.5  1698  0.701  1.034\n",
       "..     ...      ...  ...  ...   ...  ...   ...  ...   ...    ...    ...\n",
       "368    368      DCL    F   82    16    1    28  0.5  1693  0.694  1.037\n",
       "369    369      DCL    F   86    16    1    26  0.5  1688  0.675  1.040\n",
       "370    370  Control    M   61    13    2    30  0.0  1319  0.801  1.331\n",
       "371    371  Control    M   63    13    2    30  0.0  1327  0.796  1.323\n",
       "372    372  Control    M   65    13    2    30  0.0  1333  0.801  1.317\n",
       "\n",
       "[373 rows x 11 columns]"
      ]
     },
     "execution_count": 78,
     "metadata": {},
     "output_type": "execute_result"
    }
   ],
   "source": [
    "alzheimer = pd.read_csv(file[0],sep = ';')\n",
    "# print(alzheimer)\n",
    "alzheimer.size\n",
    "alzheimer.shape\n",
    "alzheimer.columns\n",
    "alzheimer['Sexo'].describe() #Me da un monton de datos estadisticos de esa fila\n",
    "alzheimer.describe().T #Me da un monton de datos estadisticos de esa fila, T es la transpuesta\n",
    "alzheimer.iloc[1] #Entro a la locacion de un objeto usando el indice como parametro\n",
    "alzheimer_copy = alzheimer.copy() #Se crea una copia para no editar el archivo original \n",
    "alzheimer_copy.reset_index() #Lit reseteo los indices\n",
    "alzheimer_copy = alzheimer_copy.drop(['Age'],axis = 1) #Esto me elimina una columan y el axis es si es vertical(1) u horizontal(0) \n",
    "del alzheimer_copy['Age'] #Otra forma de eliminar \n",
    "alzheimer_copy = alzheimer_copy.assign('falseIndex') "
   ]
  },
  {
   "cell_type": "code",
   "execution_count": 83,
   "metadata": {},
   "outputs": [
    {
     "data": {
      "text/plain": [
       "Group    Control\n",
       "Sexo           F\n",
       "Age           88\n",
       "Educ          14\n",
       "SES            2\n",
       "MMSE          30\n",
       "CDR          0.0\n",
       "eTIV        2004\n",
       "nWBV       0.681\n",
       "ASF        0.876\n",
       "Name: 1, dtype: object"
      ]
     },
     "execution_count": 83,
     "metadata": {},
     "output_type": "execute_result"
    }
   ],
   "source": [
    "alzheimer.loc[1] #Entro a la locacion de un objeto usando el indice como parametro"
   ]
  },
  {
   "cell_type": "code",
   "execution_count": 90,
   "metadata": {},
   "outputs": [
    {
     "name": "stdout",
     "output_type": "stream",
     "text": [
      "       Group Sexo  Age  Educ  SES  MMSE  CDR  eTIV   nWBV    ASF\n",
      "6    Control    M   90    18    3    27  0.0  1600  0.718  1.462\n",
      "13   Control    M   93    14    2    30  0.0  1272  0.698  1.380\n",
      "14   Control    M   95    14    2    29  0.0  1257  0.703  1.396\n",
      "28       DCL    F   90     8    4    23  0.5  1668  0.646  1.052\n",
      "35       DTA    M   92    14    1    27  0.5  1423  0.696  1.234\n",
      "59       DTA    M   91    12    3    28  0.5  1463  0.696  1.199\n",
      "60       DCL    F   90    12    3    21  0.5  1307  0.679  1.342\n",
      "61       DCL    F   92    12    3    24  0.5  1311  0.676  1.339\n",
      "107  Control    M   92    23    1    29  0.0  1454  0.701  1.207\n",
      "108  Control    M   94    23    1    29  0.0  1474  0.696  1.190\n",
      "109  Control    M   97    23    1    30  0.0  1483  0.689  1.184\n",
      "146  Control    M   90    12    3    29  0.0  1475  0.676  1.190\n",
      "169  Control    F   91    16    1    28  0.0  1640  0.670  1.070\n",
      "170  Control    F   92    16    1    30  0.0  1662  0.682  1.056\n",
      "183      DCL    M   96    17    1    26  1.0  1465  0.683  1.198\n",
      "184      DCL    M   98    17    1    21  2.0  1503  0.660  1.168\n",
      "202  Control    M   91    13    3    28  0.0  1165  0.736  1.506\n",
      "293  Control    M   91    18    2    30  0.0  1714  0.741  1.024\n",
      "294  Control    M   93    18    2    29  0.0  1744  0.723  1.006\n",
      "352  Control    M   90    14    2    28  0.0  1495  0.746  1.174\n",
      "353  Control    M   93    14    2    30  0.0  1488  0.735  1.179\n",
      "       Group Sexo  Age  Educ  SES  MMSE  CDR  eTIV   nWBV    ASF\n",
      "0    Control    F   87    14    2    27  0.0  1987  0.696  0.883\n",
      "1    Control    F   88    14    2    30  0.0  2004  0.681  0.876\n",
      "2        DCL    F   75    12    3    23  0.5  1678  0.736  1.046\n",
      "3        DCL    F   76    12    2    28  0.5  1738  0.713  1.010\n",
      "4        DCL    F   80    12    3    22  0.5  1698  0.701  1.034\n",
      "..       ...  ...  ...   ...  ...   ...  ...   ...    ...    ...\n",
      "368      DCL    F   82    16    1    28  0.5  1693  0.694  1.037\n",
      "369      DCL    F   86    16    1    26  0.5  1688  0.675  1.040\n",
      "370  Control    M   61    13    2    30  0.0  1319  0.801  1.331\n",
      "371  Control    M   63    13    2    30  0.0  1327  0.796  1.323\n",
      "372  Control    M   65    13    2    30  0.0  1333  0.801  1.317\n",
      "\n",
      "[373 rows x 10 columns]\n"
     ]
    }
   ],
   "source": [
    "alzheimer_edad_70 = alzheimer[(alzheimer['Age'] >= 90)]\n",
    "print(alzheimer_edad_70)\n",
    "print(alzheimer_copy)"
   ]
  },
  {
   "cell_type": "code",
   "execution_count": 93,
   "metadata": {},
   "outputs": [
    {
     "name": "stdout",
     "output_type": "stream",
     "text": [
      "(153, 10)\n"
     ]
    }
   ],
   "source": [
    "alzheimer_educ_14 = alzheimer[(alzheimer['Educ'] < 14)]\n",
    "print(alzheimer_educ_14.shape)\n",
    "alzheimer['Educ'].max()\n",
    "alzheimer['Educ'].mean()\n",
    "alzheimer.min()\n"
   ]
  },
  {
   "cell_type": "code",
   "execution_count": 96,
   "metadata": {},
   "outputs": [],
   "source": [
    "import seaborn as sns"
   ]
  },
  {
   "cell_type": "code",
   "execution_count": 99,
   "metadata": {},
   "outputs": [
    {
     "data": {
      "text/plain": [
       "Text(0.5, 1.0, 'Grafico de barras')"
      ]
     },
     "execution_count": 99,
     "metadata": {},
     "output_type": "execute_result"
    },
    {
     "data": {
      "image/png": "[encoded data removed]",
      "text/plain": [
       "<Figure size 640x480 with 1 Axes>"
      ]
     },
     "metadata": {},
     "output_type": "display_data"
    }
   ],
   "source": [
    "import matplotlib.pyplot as plt\n",
    "sns.barplot(x='Educ',y='Age', data = alzheimer, estimator=np.median)\n",
    "plt.title('Grafico de barras')"
   ]
  },
  {
   "cell_type": "code",
   "execution_count": 101,
   "metadata": {},
   "outputs": [
    {
     "data": {
      "text/plain": [
       "<Axes: xlabel='Age', ylabel='Count'>"
      ]
     },
     "execution_count": 101,
     "metadata": {},
     "output_type": "execute_result"
    },
    {
     "data": {
      "image/png": "[encoded data removed]",
      "text/plain": [
       "<Figure size 640x480 with 1 Axes>"
      ]
     },
     "metadata": {},
     "output_type": "display_data"
    }
   ],
   "source": [
    "sns.histplot(alzheimer['Age'])\n"
   ]
  },
  {
   "cell_type": "code",
   "execution_count": 104,
   "metadata": {},
   "outputs": [
    {
     "data": {
      "text/plain": [
       "<Axes: xlabel='Age', ylabel='Density'>"
      ]
     },
     "execution_count": 104,
     "metadata": {},
     "output_type": "execute_result"
    },
    {
     "data": {
      "image/png": "[encoded data removed]",
      "text/plain": [
       "<Figure size 640x480 with 1 Axes>"
      ]
     },
     "metadata": {},
     "output_type": "display_data"
    }
   ],
   "source": [
    "sns.kdeplot(data = alzheimer['Age'], fill=True)"
   ]
  },
  {
   "cell_type": "code",
   "execution_count": 106,
   "metadata": {},
   "outputs": [
    {
     "name": "stderr",
     "output_type": "stream",
     "text": [
      "C:\\Users\\DRA01\\AppData\\Local\\Temp\\ipykernel_7108\\3091710545.py:1: FutureWarning: \n",
      "\n",
      "Passing `palette` without assigning `hue` is deprecated and will be removed in v0.14.0. Assign the `x` variable to `hue` and set `legend=False` for the same effect.\n",
      "\n",
      "  sns.boxplot(data=alzheimer, x='Group',y='Age',palette=\"rocket\")\n"
     ]
    },
    {
     "data": {
      "text/plain": [
       "Text(0.5, 1.0, 'Diagrama de caja y bigote')"
      ]
     },
     "execution_count": 106,
     "metadata": {},
     "output_type": "execute_result"
    },
    {
     "data": {
      "image/png": "[encoded data removed]",
      "text/plain": [
       "<Figure size 640x480 with 1 Axes>"
      ]
     },
     "metadata": {},
     "output_type": "display_data"
    }
   ],
   "source": [
    "sns.boxplot(data=alzheimer, x='Group',y='Age',palette=\"rocket\")\n",
    "plt.title(\"Diagrama de caja y bigote\")"
   ]
  }
 ],
 "metadata": {
  "kernelspec": {
   "display_name": "Python 3",
   "language": "python",
   "name": "python3"
  },
  "language_info": {
   "codemirror_mode": {
    "name": "ipython",
    "version": 3
   },
   "file_extension": ".py",
   "mimetype": "text/x-python",
   "name": "python",
   "nbconvert_exporter": "python",
   "pygments_lexer": "ipython3",
   "version": "3.11.3"
  },
  "orig_nbformat": 4
 },
 "nbformat": 4,
 "nbformat_minor": 2
}
