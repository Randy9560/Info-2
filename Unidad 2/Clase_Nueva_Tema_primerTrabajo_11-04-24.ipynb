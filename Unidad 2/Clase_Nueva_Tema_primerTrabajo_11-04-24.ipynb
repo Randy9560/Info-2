{
 "cells": [
  {
   "cell_type": "markdown",
   "metadata": {},
   "source": [
    "**INFORMATICA MEDICA**\n",
    "\n",
    "Combina la atencion medica y tecnologia de la infromacion para mejorar la eficiencia. Implica la recopilacion, almacenamiento, recuperacion y presentacion de datos en un formato digital.\n",
    "\n",
    "Gracias eso nace la necesidad de establecer un vocaublario controlado y consistente.\n",
    "\n",
    "**OBJETIVO**\n",
    "\n",
    "Optimizar la adquisicion, almacenamiento, recuperacion y el uso de la informacion en salud.\n",
    "\n",
    "- Procesamiento.\n",
    "- Analisis.\n",
    "- Comprension.\n",
    "- Visualizacion.\n",
    "- Navegacion.\n",
    "\n",
    "**HISTORIA CLINICA ELECTRONICA**\n",
    "\n",
    "Es un sistema digital que guarda informacion de salud de un paciente.\n",
    "\n",
    "Estos datos tiene que ser codificados y encriptados.\n",
    "\n",
    "**PREESCRIPCION ELECTRONICA**\n",
    "\n",
    "Reemplaza las recetas en papel y proporciona la transmicion y llenado de recetas medicas sin errores, precisas y comprensibles en formato electronico.\n",
    "\n",
    "**ESTANDARES E INTEROPERABILIDAD**\n",
    "\n",
    "- _Estandares:_\n",
    "\n",
    "    Grupo de reglas y definiciones que especifican como llevar a cabo un proceso.\n",
    "\n",
    "- _Interoperabilidad:_\n",
    "\n",
    "    Capacidad de diferentes sistemas de informacion, dispositivos y aplicacion para acceder, intercambiar, integrar y utilizar datos de pacientes.\n",
    "\n",
    "**ESTANDAR DICOM**\n",
    "\n",
    "Es un estandar para imagenes y comunicaciones digitales en medicina.\n",
    "\n",
    "- Formato de archivo/datos.\n",
    "- Protocolo de intercambio de datos.\n",
    "- Arquitectura de protocolo de red.\n",
    "\n",
    "**FORMATO DE UN ARCHIVO DICOM**\n",
    "\n",
    "Se divide en:\n",
    "\n",
    "- _Header:_ Contiene sintaxis de transferencia UID que especifica la codificacion y la comprension de Data set.\n",
    "\n",
    "- _Data set:_ Contiene la imagen \n",
    "\n",
    "\n",
    "\n"
   ]
  },
  {
   "cell_type": "markdown",
   "metadata": {},
   "source": []
  }
 ],
 "metadata": {
  "kernelspec": {
   "display_name": "Python 3",
   "language": "python",
   "name": "python3"
  },
  "language_info": {
   "name": "python",
   "version": "3.11.3"
  },
  "orig_nbformat": 4
 },
 "nbformat": 4,
 "nbformat_minor": 2
}
