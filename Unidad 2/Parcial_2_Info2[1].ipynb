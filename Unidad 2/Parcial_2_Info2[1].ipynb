{
 "cells": [
  {
   "cell_type": "markdown",
   "metadata": {},
   "source": [
    "<p align=\"center\"><img alt=\"udeA logo\" height=\"150px\" src=\"https://github.com/freddyduitama/images/blob/master/logo.png?raw=true\"></p><h1><font color='0B5345'> <center>\n",
    "\n",
    "Parcial 2: Informática II\n",
    "\n",
    "</center></font></h1>\n",
    "<h2><font color='0B5345'> <center>\n",
    "Intoducción a la computación numérica en python</center></font></h2>\n",
    "<font  face=\"Courier New\" size=\"3\">\n",
    "\n",
    "<p3><center><b><font color='0B5345' face=\"Lucida Calligraphy,Comic Sans MS,Lucida Console\" size=\"5\">Universidad de Antioquia - Bioingeniería</font></b> </center></p3>"
   ]
  },
  {
   "cell_type": "markdown",
   "metadata": {},
   "source": [
    "\n",
    "Nombre: \n",
    "\n",
    "Cédula:"
   ]
  },
  {
   "cell_type": "markdown",
   "metadata": {},
   "source": [
    "Lea detenidamente los enunciados y desarrolle cada uno de los ejercicios, para cada uno de los ejercicios el código debe estar comentado."
   ]
  },
  {
   "cell_type": "markdown",
   "metadata": {},
   "source": [
    "1. (10%) Cree un tablero de ajedrez de tamaño 8 x 8.\n",
    "\n",
    "    El tablero de ajedrez debe tener casillas blancas y negras alternadas, representadas por los caracteres '#' y '.' respectivamente."
   ]
  },
  {
   "cell_type": "markdown",
   "metadata": {},
   "source": [
    "2. (20%) Usando la biblioteca numpy en Python, cree una matriz cuadrada de tamaño nxn con la siguiente configuración:\n",
    "\n",
    "- Todas las posiciones deben inicializarse en 0.\n",
    "- Una cruz de unos debe formarse en el centro de la matriz.\n",
    "\n",
    "    Cree una función llamada generar_matriz_cruz() que tome como argumento el tamaño de la matriz y devuelva la matriz resultante."
   ]
  },
  {
   "cell_type": "markdown",
   "metadata": {},
   "source": [
    "3. (10%) Cree una función llamada crear_matriz_diagonal() que genere una matriz cuadrada de tamaño nxn con valores aleatorios en la diagonal principal y ceros en el resto de las posiciones.\n",
    "\n",
    "Para esto, sigue los siguientes pasos:\n",
    "\n",
    "- Define el tamaño n de la matriz.\n",
    "- Genera valores aleatorios que formarán la diagonal principal de la matriz.\n",
    "- Inicializa una matriz de ceros del tamaño adecuado.\n",
    "- Asigna los valores aleatorios a la diagonal principal de la matriz.\n",
    "- Retorna la matriz resultante."
   ]
  },
  {
   "cell_type": "markdown",
   "metadata": {},
   "source": [
    "4. (60%) Análisis de Señales biomédicas:\n",
    "\n",
    "Usando las bibliotecas scipy, matplotlib y numpy, cree una función llamada analisis_de_senal(archivo,sensor) que realice las siguientes operaciones:\n",
    "\n",
    "- Cargue una señal desde un archivo .mat.\n",
    "- Encuentre el valor máximo y su posición en la señal de uno de los sensores, con la función puede seleccionar que sensor de la señal va a utilizar.\n",
    "- Gráficar en una misma figura (Las gráficas deben tener título, nombres de los ejes y color asignado). Use la forma explícita de matplotlib.\n",
    "    - La señal en un intervalo donde se vea el valor maximo y con una flecha indique su ubicación y escriba el valor dentro de la gráfica.\n",
    "    - Un histograma de la señal con etiquetas de medidas de tendencia central (promedio y mediana)."
   ]
  },
  {
   "cell_type": "markdown",
   "metadata": {},
   "source": [
    "Muchos exitos!!"
   ]
  },
  {
   "cell_type": "code",
   "execution_count": 4,
   "metadata": {},
   "outputs": [
    {
     "name": "stdout",
     "output_type": "stream",
     "text": [
      "[['.' '#' '.' '#' '.' '#' '.' '#']\n",
      " ['#' '.' '#' '.' '#' '.' '#' '.']\n",
      " ['.' '#' '.' '#' '.' '#' '.' '#']\n",
      " ['#' '.' '#' '.' '#' '.' '#' '.']\n",
      " ['.' '#' '.' '#' '.' '#' '.' '#']\n",
      " ['#' '.' '#' '.' '#' '.' '#' '.']\n",
      " ['.' '#' '.' '#' '.' '#' '.' '#']\n",
      " ['#' '.' '#' '.' '#' '.' '#' '.']]\n"
     ]
    }
   ],
   "source": [
    "#Parte - 1\n",
    "import numpy as np\n",
    "\n",
    "tablero = np.full((8,8), '#', dtype=str)\n",
    "for i in range(0,8):\n",
    "    for j in range(0,8):\n",
    "        if (i+j) % 2 == 0:\n",
    "            tablero[i,j] = '.'\n",
    "\n",
    "#print(tablero)\n"
   ]
  },
  {
   "cell_type": "code",
   "execution_count": 9,
   "metadata": {},
   "outputs": [
    {
     "name": "stdout",
     "output_type": "stream",
     "text": [
      "[[0 0 1 0 0]\n",
      " [0 0 1 0 0]\n",
      " [1 1 1 1 1]\n",
      " [0 0 1 0 0]\n",
      " [0 0 1 0 0]]\n"
     ]
    }
   ],
   "source": [
    "#Parte 2\n",
    "import numpy as np\n",
    "\n",
    "def generar_matriz_cruz(n):\n",
    "    # Crear una matriz de ceros de tamaño nxn\n",
    "    matriz = np.zeros((n, n), dtype=int)\n",
    "    \n",
    "    # Calcular el centro de la matriz\n",
    "    centro = n//2\n",
    "\n",
    "\n",
    "\n",
    "    \n",
    "    # Establecer la cruz de unos en el centro\n",
    "    matriz[centro, :] = 1  # Establecer fila del centro\n",
    "    matriz[:, centro] = 1  # Establecer columna del centro\n",
    "    \n",
    "    print(matriz)\n",
    "\n",
    "generar_matriz_cruz(5)"
   ]
  },
  {
   "cell_type": "code",
   "execution_count": 10,
   "metadata": {},
   "outputs": [
    {
     "name": "stdout",
     "output_type": "stream",
     "text": [
      "Matriz generada:\n",
      "[[0.50767741 0.         0.         0.         0.        ]\n",
      " [0.         0.22553103 0.         0.         0.        ]\n",
      " [0.         0.         0.58643564 0.         0.        ]\n",
      " [0.         0.         0.         0.18366489 0.        ]\n",
      " [0.         0.         0.         0.         0.97393922]]\n"
     ]
    }
   ],
   "source": [
    "#Parte 3\n",
    "\n",
    "import numpy as np\n",
    "\n",
    "def crear_matriz_diagonal(n):\n",
    "    # Genera valores aleatorios para la diagonal principal\n",
    "    diagonal = np.random.rand(n)\n",
    "    \n",
    "    # Inicializa una matriz de ceros del tamaño adecuado\n",
    "    matriz = np.zeros((n, n))\n",
    "    \n",
    "    # Asigna los valores aleatorios a la diagonal principal de la matriz\n",
    "    np.fill_diagonal(matriz, diagonal)\n",
    "    \n",
    "    return matriz\n",
    "\n",
    "# Ejemplo de uso\n",
    "n = 5  # Tamaño de la matriz\n",
    "matriz_resultante = crear_matriz_diagonal(n)\n",
    "print(\"Matriz generada:\")\n",
    "print(matriz_resultante)"
   ]
  },
  {
   "cell_type": "markdown",
   "metadata": {},
   "source": [
    "Usando las bibliotecas scipy, matplotlib y numpy, cree una función llamada analisis_de_senal(archivo,sensor) que realice las siguientes operaciones:\n",
    "\n",
    "- Cargue una señal desde un archivo .mat.\n",
    "- Encuentre el valor máximo y su posición en la señal de uno de los sensores, con la función puede seleccionar que sensor de la señal va a utilizar.\n",
    "- Gráficar en una misma figura (Las gráficas deben tener título, nombres de los ejes y color asignado). Use la forma explícita de matplotlib.\n",
    "    - La señal en un intervalo donde se vea el valor maximo y con una flecha indique su ubicación y escriba el valor dentro de la gráfica.\n",
    "    - Un histograma de la señal con etiquetas de medidas de tendencia central (promedio y mediana)."
   ]
  },
  {
   "cell_type": "code",
   "execution_count": 24,
   "metadata": {},
   "outputs": [
    {
     "name": "stdout",
     "output_type": "stream",
     "text": [
      "[[ -0.83749473  -0.9562371   -1.0724295  ...  -6.191432    -6.1184025\n",
      "   -6.057742  ]\n",
      " [ -1.2637602   -1.3954667   -1.5173539  ... -10.904964   -10.851019\n",
      "  -10.806169  ]\n",
      " [ -0.47651216  -0.48379016  -0.4795187  ...  -5.268532    -5.3301888\n",
      "   -5.3978744 ]\n",
      " ...\n",
      " [ -1.5274851   -1.053489    -0.5758177  ...   0.0257757    0.28843728\n",
      "    0.54285604]\n",
      " [ -2.6431959   -2.3996053   -2.1375208  ...   1.0747223    0.79645485\n",
      "    0.52419126]\n",
      " [  2.948656     2.7546198    2.54476    ...  -0.5165161   -0.871377\n",
      "   -1.1886533 ]]\n"
     ]
    }
   ],
   "source": [
    "#Parte 4\n",
    "import scipy.io as sio\n",
    "import numpy as np\n",
    "import matplotlib.pyplot as plt \n",
    "\n",
    "#Cargar señal\n",
    "\n",
    "File = sio.loadmat(r'D:\\Datos PC\\Escritorio\\Repaso Info II\\Taller\\senales_potencial.mat')\n",
    "\n",
    "#print(File.keys())\n",
    "\n",
    "infrecuente = File['infrecuente']\n",
    "\n",
    "sensores = infrecuente.shape[0]\n",
    "puntosn = infrecuente.shape[1]\n",
    "epocas = infrecuente.shape[2]\n",
    "\n",
    "infrecuente_aplanado = np.reshape(infrecuente,(sensores,puntosn*epocas),order = 'F') \n",
    "print(infrecuente_aplanado)\n",
    "\n"
   ]
  },
  {
   "cell_type": "code",
   "execution_count": 17,
   "metadata": {},
   "outputs": [],
   "source": [
    "analisis_de_senal('D:\\Datos PC\\Escritorio\\Repaso Info II\\Taller\\senales_potencial.mat')"
   ]
  }
 ],
 "metadata": {
  "kernelspec": {
   "display_name": "Python 3",
   "language": "python",
   "name": "python3"
  },
  "language_info": {
   "codemirror_mode": {
    "name": "ipython",
    "version": 3
   },
   "file_extension": ".py",
   "mimetype": "text/x-python",
   "name": "python",
   "nbconvert_exporter": "python",
   "pygments_lexer": "ipython3",
   "version": "3.11.9"
  },
  "orig_nbformat": 4
 },
 "nbformat": 4,
 "nbformat_minor": 2
}
