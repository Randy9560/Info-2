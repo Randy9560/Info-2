{
 "cells": [
  {
   "cell_type": "markdown",
   "metadata": {},
   "source": [
    "\n",
    "<p align=\"center\"><img alt=\"udeA logo\" height=\"150px\" src=\"https://github.com/freddyduitama/images/blob/master/logo.png?raw=true\"></p><h1><font color='0B5345'> <center>\n",
    "\n",
    "Informática II\n",
    "\n",
    " </center></font></h1>\n",
    "<h2><font color='0B5345'> <center>\n",
    "Parcial I: Programación orientada a objetos</center></font></h2>\n",
    "<font  face=\"Courier New\" size=\"3\">\n",
    "\n",
    "<p3><center><b><font color='0B5345' face=\"Lucida Calligraphy,Comic Sans MS,Lucida Console\" size=\"5\">Universidad de Antioquia - Bioingeniería</font></b> </center></p3>\n",
    "\n"
   ]
  },
  {
   "cell_type": "markdown",
   "metadata": {},
   "source": [
    "\n",
    "Nombre estudiante 1: Randy Garcia Perez\n",
    "\n",
    "Cédula estudiante 1: 1043651425\n",
    "\n",
    "Nombre estudiante 2: Maria Jose Rios Hurtado \n",
    "\n",
    "Cédula estudiante 2: 1020107935"
   ]
  },
  {
   "cell_type": "markdown",
   "metadata": {},
   "source": [
    "Antes de iniciar leer cuidadosamente cada enunciado antes de responder y asegurarse de comprender completamente lo que se está solicitando. Además, preste atención a las instrucciones y seleccione la opción que consideres correcta en las preguntas de selección múltiple.\n",
    "\n",
    "¡Buena suerte!"
   ]
  },
  {
   "cell_type": "markdown",
   "metadata": {},
   "source": [
    "1. Describe qué es la encapsulación en programación orientada a objetos y por qué es importante en el desarrollo de software. (10%)\n"
   ]
  },
  {
   "cell_type": "markdown",
   "metadata": {},
   "source": [
    "    Respuesta ...\n",
    "\n",
    "R/ Es un metodo que se usa para proteger la infomacion, ya sean atributos o metodos internos de una clase, para que no sean manipulados por fuera de la clase de interes, si no dentro de las instancias de la misma por medio de funciones. Extisten tres tipos de encapsulamiento: publico, privado y protegido, estos se reprensentan de la  siguiente manera:\n",
    "\n",
    "1) Diagrama de clase\n",
    "           \n",
    "Publico         +                         \n",
    "\n",
    "privado         -   \n",
    "                      \n",
    "protegido       #            \n",
    "\n",
    "2) Codigo\n",
    "\n",
    "publico             self.nombreAtributo\n",
    "\n",
    "privado             self.__nombreAtributo\n",
    "\n",
    "Protegido           self._nombreAtributo\n",
    "              \n",
    "\n",
    "Ahora, la importancia de la encapsulacion en el desarrollo de software radica en la proteccion y manejo de los datos, por temas de privacidad y correcto. funcionamiento del codigo. "
   ]
  },
  {
   "cell_type": "markdown",
   "metadata": {},
   "source": [
    "2. ¿Qué palabra clave se utiliza en Python para definir una clase? (5%)\n",
    "\n",
    "    a) class\n",
    "\n",
    "    b) def\n",
    "\n",
    "    c) void\n",
    "    \n",
    "    d) function"
   ]
  },
  {
   "cell_type": "markdown",
   "metadata": {},
   "source": [
    "    Respuesta ... R/ A"
   ]
  },
  {
   "cell_type": "markdown",
   "metadata": {},
   "source": [
    "3. Define qué es la herencia en POO y proporciona un ejemplo en Python que demuestre su uso. (Implementar código) (20%). \n",
    "\n",
    "    **Nota:** El ejemplo propuesto debe tener atributos de instancia y al menos un método funcional. (**No se pueden usar ejemplos de clase**)"
   ]
  },
  {
   "cell_type": "markdown",
   "metadata": {},
   "source": [
    "R/ La herencia nos permite definir múltiples subclases a partir de una clase ya definida, además permite definir relaciones de generalización donde se parte de lo general a lo concreto y ayuda a la reutilización de código y a la adaptación de funcionalidades nuevas. Por lo general, este sistema de herencia es utilizado cuando se deben crear varias clases con atributos en común ya que la creación de una clase padre, permitirá agrupar estos atriburos antes mecionados y utilizarlos posteriormente en las sub clses de manera más ágil y eficaz."
   ]
  },
  {
   "cell_type": "code",
   "execution_count": 13,
   "metadata": {},
   "outputs": [
    {
     "name": "stdout",
     "output_type": "stream",
     "text": [
      " \n",
      "                    Nombre: Randy;\n",
      "                    Id: 123 ;\n",
      "                    Enfermedad: Gripa;\n",
      "                    N° de camilla: 56\n"
     ]
    }
   ],
   "source": [
    "class Persona:\n",
    "    def __init__(self, nombre, id):\n",
    "        self.nombre = nombre\n",
    "        self.id = id\n",
    "\n",
    "    def __str__(self):\n",
    "        return f\"\"\" \n",
    "                    Nombre: {self.nombre};\n",
    "                    Id: {self.id} \"\"\"\n",
    "\n",
    "class Paciente(Persona):\n",
    "\n",
    "    def __init__(self, nombre, id,enfermedad,camilla):\n",
    "        super().__init__(nombre, id)\n",
    "        self.enfermedad = enfermedad\n",
    "        self.camilla = camilla\n",
    "            \n",
    "    def __str__(self):\n",
    "        return f\"\"\"{super().__str__()};\n",
    "                    Enfermedad: {self.enfermedad};\n",
    "                    N° de camilla: {self.camilla}\"\"\"\n",
    "    \n",
    "#Prueba\n",
    "\n",
    "paciente1 = Paciente('Randy',123,'Gripa',56)\n",
    "\n",
    "print(paciente1)"
   ]
  },
  {
   "cell_type": "markdown",
   "metadata": {},
   "source": [
    "4. ¿Cuál es el propósito principal del método constructor  _ _init__() en Python? (5%)\n",
    "\n",
    "    a) Definir los atributos de clase.\n",
    "    \n",
    "    b) Inicializar los atributos de instancia.\n",
    "    \n",
    "    c) Definir métodos de clase.\n",
    "    \n",
    "    d) Crear instancias de la clase."
   ]
  },
  {
   "cell_type": "markdown",
   "metadata": {},
   "source": [
    "    Respuesta ... R/ B\n",
    "    "
   ]
  },
  {
   "cell_type": "markdown",
   "metadata": {},
   "source": [
    "5. Del siguiente código indique donde se evidencian relaciones entre clases (dependencia, asociación o herencia) (10%) \n",
    "\n",
    "    **Nota:** Puede comentar en el código donde están las relaciones."
   ]
  },
  {
   "cell_type": "code",
   "execution_count": null,
   "metadata": {},
   "outputs": [],
   "source": [
    "class lectorArchivos:\n",
    "    def crearArchivo(self, nombre_archivo, contenido):\n",
    "        try:\n",
    "            with open(nombre_archivo, 'w') as file:\n",
    "                file.write(contenido)\n",
    "            print(f\"Archivo '{nombre_archivo}' creado exitosamente.\")\n",
    "        except Exception as e:\n",
    "            print(f\"No se pudo crear el archivo '{nombre_archivo}': {e}\")\n",
    "\n",
    "    def leerArchivo(self, nombre_archivo):\n",
    "        try:\n",
    "            with open(nombre_archivo, 'r') as file:\n",
    "                contenido = file.read()\n",
    "                return contenido\n",
    "        except FileNotFoundError:\n",
    "            print(f\"El archivo '{nombre_archivo}' no existe.\")\n",
    "            return None\n",
    "\n",
    "class procesarDatos:\n",
    "    def procesarTexto(self, texto):\n",
    "        if texto:\n",
    "            return texto.upper()\n",
    "        else:\n",
    "            return \"No se pudo procesar el texto.\"\n",
    "\n",
    "class analizarDatos(procesarDatos): # RELACION DE HERENCIA\n",
    "    def analizar(self, nombre_archivo):\n",
    "        lector = lectorArchivos() #RELACION DE DEPENDENCIA\n",
    "        texto = lector.leerArchivo(nombre_archivo) \n",
    "        if texto:\n",
    "            resultado = self.procesarTexto(texto)\n",
    "            print(\"Análisis completado:\")\n",
    "            print(resultado)\n",
    "        else:\n",
    "            print(\"No hay datos para analizar.\")\n",
    "\n",
    "# Ejemplo de uso\n",
    "nombre_archivo = \"datos.txt\"\n",
    "contenido = \"Este es un ejemplo de texto para el archivo.\"\n",
    "\n",
    "# Crear el archivo\n",
    "lector = lectorArchivos()\n",
    "lector.crearArchivo(nombre_archivo, contenido)\n",
    "\n",
    "# Analizar el archivo\n",
    "analizador = analizarDatos()\n",
    "analizador.analizar(nombre_archivo)"
   ]
  },
  {
   "cell_type": "markdown",
   "metadata": {},
   "source": [
    "6. A partir del siguiente programa basado en programación orientada a objetos responda las siguientes preguntas:"
   ]
  },
  {
   "cell_type": "code",
   "execution_count": 6,
   "metadata": {},
   "outputs": [
    {
     "name": "stdout",
     "output_type": "stream",
     "text": [
      "El saldo actual de la cuenta de Juan es: 1000\n",
      "Se han depositado 500 en la cuenta de Juan. Nuevo saldo: 1500\n",
      "Se han retirado 200 de la cuenta de Juan. Nuevo saldo: 1300\n"
     ]
    }
   ],
   "source": [
    "class cuentaBancaria:\n",
    "    def __init__(self, titular, saldo_inicial=0):\n",
    "        self._titular = titular  \n",
    "        self.__saldo = saldo_inicial  \n",
    "\n",
    "    def depositar(self, cantidad):\n",
    "        if cantidad > 0:\n",
    "            self.__saldo += cantidad\n",
    "            print(f\"Se han depositado {cantidad} en la cuenta de {self._titular}. Nuevo saldo: {self.__saldo}\")\n",
    "        else:\n",
    "            print(\"La cantidad a depositar debe ser mayor que 0.\")\n",
    "\n",
    "    def retirar(self, cantidad):\n",
    "        if 0 < cantidad <= self.__saldo:\n",
    "            self.__saldo -= cantidad\n",
    "            print(f\"Se han retirado {cantidad} de la cuenta de {self._titular}. Nuevo saldo: {self.__saldo}\")\n",
    "        else:\n",
    "            print(\"No se puede retirar la cantidad especificada. Verifique su saldo.\")\n",
    "\n",
    "    def consultarSaldo(self):\n",
    "        print(f\"El saldo actual de la cuenta de {self._titular} es: {self.__saldo}\")\n",
    "\n",
    "\n",
    "# Ejemplo de uso\n",
    "cuenta = cuentaBancaria(\"Juan\", 1000)\n",
    "cuenta.consultarSaldo()\n",
    "cuenta.depositar(500)\n",
    "cuenta.retirar(200)\n"
   ]
  },
  {
   "cell_type": "markdown",
   "metadata": {},
   "source": [
    "6.1 ¿Qué significa que el atributo _titular esté marcado como protegido en la clase CuentaBancaria? (5%)\n",
    "\n",
    "a) Solo los métodos dentro de la clase pueden acceder y modificar el atributo _titular.\n",
    "    \n",
    "b) El atributo _titular se puede acceder y modificar desde fuera de la clase, pero se considera una convención que indica que no debe ser modificado directamente por usuarios de la clase.\n",
    "    \n",
    "c) El atributo _titular no se puede acceder directamente desde fuera de la clase.\n",
    "    \n",
    "d) El atributo _titular solo se puede acceder desde fuera de la clase."
   ]
  },
  {
   "cell_type": "markdown",
   "metadata": {},
   "source": [
    "    Respuesta ... R/ A"
   ]
  },
  {
   "cell_type": "markdown",
   "metadata": {},
   "source": [
    "6.2 ¿Qué significa que el atributo __saldo esté marcado como privado en la clase CuentaBancaria? (5%)\n",
    "\n",
    "a) El atributo __saldo se puede acceder directamente desde fuera de la clase.\n",
    "\n",
    "b) Solo los métodos dentro de la clase pueden acceder y modificar el atributo __saldo.\n",
    "\n",
    "c) El atributo __saldo se puede acceder y modificar desde cualquier parte del código.\n",
    "\n",
    "d) El atributo __saldo es visible y modificable desde fuera de la clase."
   ]
  },
  {
   "cell_type": "markdown",
   "metadata": {},
   "source": [
    "    Respuesta ... R/ B"
   ]
  },
  {
   "cell_type": "markdown",
   "metadata": {},
   "source": [
    "6.3 ¿Qué importancia tiene el encapsulamiento en el contexto de la clase CuentaBancaria? (5%)\n",
    "\n",
    "a) Protege los datos sensibles dentro de la clase y permite acceder a ellos desde fuera de la clase.\n",
    "\n",
    "b) Protege los datos sensibles dentro de la clase y restringe el acceso desde fuera de la clase.\n",
    "\n",
    "c) Permite que cualquier método acceda y modifique los datos de la clase.\n",
    "\n",
    "d) No tiene ningún impacto en el acceso a los datos de la clase."
   ]
  },
  {
   "cell_type": "markdown",
   "metadata": {},
   "source": [
    "    Respuesta ... R/ B"
   ]
  },
  {
   "cell_type": "markdown",
   "metadata": {},
   "source": [
    "6.4 Que tipos de métodos y atributos contiene la clase cuentaBancaria? (5%)"
   ]
  },
  {
   "cell_type": "markdown",
   "metadata": {},
   "source": [
    "    Respuesta ... Contiene atributos de instancia: titular y saldo_inicial   y  metodos de instancia: depositar, retirar y consultarSaldo\n",
    "    "
   ]
  },
  {
   "cell_type": "markdown",
   "metadata": {},
   "source": [
    "7. Cree una clase llamada Calculadora que simule una calculadora básica, debe hacer una prueba de escritorio para cada método y realizar el diagrama de clase. (30%) \n",
    "\n",
    "La clase Calculadora debe tener los siguientes métodos:\n",
    "\n",
    "**Suma:** Este método debe tomar dos números como argumentos y devolver la suma de esos números. \n",
    "\n",
    "**Resta:** Este método debe tomar dos números como argumentos y devolver la resta del segundo número al primero. \n",
    "\n",
    "**Multiplicación:** Este método debe tomar dos números como argumentos y devolver el producto de esos números. \n",
    "\n",
    "**División:** Este método debe tomar dos números como argumentos y devolver el resultado de dividir el primero por el segundo. Si el segundo número es 0, debes imprimir un mensaje indicando que la división por cero no está permitida. \n",
    "\n",
    "**Nota:** Antes de realizar cualquier operación, valide que ambos argumentos sean números. Si alguno de los argumentos no es un número, debe imprimir un mensaje indicando que solo se permiten números y no realizar la operación.\n",
    "\n",
    "Además, la clase Calculadora no debe tener ningún atributo de instancia."
   ]
  },
  {
   "cell_type": "markdown",
   "metadata": {},
   "source": [
    "**Éxitos y recuerden que la entrega del parcial se realiza subiendo este notebook al repositorio de github de alguno de los integrantes del grupo.**"
   ]
  },
  {
   "cell_type": "code",
   "execution_count": 3,
   "metadata": {},
   "outputs": [
    {
     "data": {
      "text/plain": [
       "'La suma de 4.0 + 4.0 es igual a 8.0'"
      ]
     },
     "execution_count": 3,
     "metadata": {},
     "output_type": "execute_result"
    }
   ],
   "source": [
    "\n",
    "class Calculadora:\n",
    "    numero1 = 0\n",
    "    numero2 = 0\n",
    "    \n",
    "    @classmethod\n",
    "    def añadirNumero(cls):\n",
    "        while True:\n",
    "            try:\n",
    "                nuevoNumero1 = float(input(\"Ingrese el primer numero: \"))\n",
    "                cls.numero1 = nuevoNumero1                               \n",
    "                break\n",
    "\n",
    "            except ValueError:\n",
    "                print ('Debe ingresar un dato numérico, no se realizara ninguna operacion')\n",
    "                continue\n",
    "        while True:\n",
    "            try:\n",
    "                nuevoNumero2 = float(input(\"Ingrese el segundo numero: \"))\n",
    "                cls.numero2 = nuevoNumero2                               \n",
    "                break\n",
    "\n",
    "            except ValueError:\n",
    "                print ('Debe ingresar un dato numérico, no se realizara ninguna operacion')\n",
    "                continue\n",
    "\n",
    "    \n",
    "    @classmethod\n",
    "    def suma(cls):\n",
    "        Calculadora.añadirNumero()\n",
    "        return f'La suma de {cls.numero1} + {cls.numero2} es igual a {cls.numero1 + cls.numero2}'\n",
    "    \n",
    "    @classmethod\n",
    "    def resta(cls):\n",
    "        Calculadora.añadirNumero()\n",
    "        return f'La resta de {cls.numero1} - {cls.numero2} es igual a {cls.numero1 - cls.numero2}'\n",
    "\n",
    "    @classmethod\n",
    "    def multiplicacion(cls):\n",
    "        Calculadora.añadirNumero()\n",
    "        return f'La multiplicacion de {cls.numero1} por {cls.numero2} es igual a {cls.numero1 * cls.numero2}'\n",
    "\n",
    "    @classmethod\n",
    "    def division(cls):\n",
    "        while True:\n",
    "            try:\n",
    "                nuevoNumero1 = float(input(\"Ingrese el primer numero: \"))\n",
    "                cls.numero1 = nuevoNumero1                               \n",
    "                break\n",
    "\n",
    "            except ValueError:\n",
    "                print ('Debe ingresar un dato numérico, no se realizara ninguna operacion')\n",
    "                continue\n",
    "        while True:\n",
    "            try:\n",
    "                nuevoNumero2 = float(input(\"Ingrese el segundo numero: \"))\n",
    "                if nuevoNumero2 == 0.0:\n",
    "                    raise ValueError(\"No se puede dividir por cero\")\n",
    "                cls.numero2 = nuevoNumero2                               \n",
    "                break\n",
    "\n",
    "            except ValueError as e:\n",
    "                print (f'Error: {e}' )\n",
    "                continue       \n",
    "        \n",
    "        return f'La division de {cls.numero1} entre {cls.numero2} es igual a {cls.numero1 / cls.numero2}'\n",
    "    \n",
    "\n",
    "#Prueba de suma\n",
    "Calculadora.suma()\n"
   ]
  },
  {
   "cell_type": "code",
   "execution_count": null,
   "metadata": {},
   "outputs": [],
   "source": [
    "#Prueba de resta\n",
    "Calculadora.resta()"
   ]
  },
  {
   "cell_type": "code",
   "execution_count": null,
   "metadata": {},
   "outputs": [],
   "source": [
    "#Prueba de multiplicacion\n",
    "Calculadora.multiplicacion()"
   ]
  },
  {
   "cell_type": "code",
   "execution_count": 4,
   "metadata": {},
   "outputs": [
    {
     "name": "stdout",
     "output_type": "stream",
     "text": [
      "Debe ingresar un dato numérico, no se realizara ninguna operacion\n",
      "Error: could not convert string to float: 'j'\n"
     ]
    },
    {
     "data": {
      "text/plain": [
       "'La division de 5.0 entre 5.0 es igual a 1.0'"
      ]
     },
     "execution_count": 4,
     "metadata": {},
     "output_type": "execute_result"
    }
   ],
   "source": [
    "#Prueba de division\n",
    "Calculadora.division()"
   ]
  }
 ],
 "metadata": {
  "kernelspec": {
   "display_name": "Python 3",
   "language": "python",
   "name": "python3"
  },
  "language_info": {
   "codemirror_mode": {
    "name": "ipython",
    "version": 3
   },
   "file_extension": ".py",
   "mimetype": "text/x-python",
   "name": "python",
   "nbconvert_exporter": "python",
   "pygments_lexer": "ipython3",
   "version": "3.11.3"
  },
  "orig_nbformat": 4
 },
 "nbformat": 4,
 "nbformat_minor": 2
}
