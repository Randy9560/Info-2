{
 "cells": [
  {
   "cell_type": "code",
   "execution_count": 3,
   "metadata": {},
   "outputs": [
    {
     "name": "stdout",
     "output_type": "stream",
     "text": [
      "{'nombre': 'Ana', 'edad': 25, 'ciudad': 'Barcelona'}\n"
     ]
    }
   ],
   "source": [
    "import json\n",
    "\n",
    "cadena_json = '{\"nombre\": \"Ana\", \"edad\": 25, \"ciudad\": \"Barcelona\"}'\n",
    "datos = json.loads(cadena_json)\n",
    "\n",
    "print(datos)"
   ]
  },
  {
   "cell_type": "code",
   "execution_count": 4,
   "metadata": {},
   "outputs": [],
   "source": [
    "def guardar_info(n,a,e,id):\n",
    "    \n",
    "    dic_agregar =  [\n",
    "        \n",
    "                    {\n",
    "                        'Nombre': f'{n}',\n",
    "                        'Apellido': f'{a}',\n",
    "                        'Edad': f'{e}',\n",
    "                        'Identificacion': f'{id}'                            \n",
    "                        \n",
    "                    }\n",
    "] \n",
    "    with open('datos.json','w') as archivo:\n",
    "        json.dump(dic_agregar, archivo, indent= 4)"
   ]
  },
  {
   "cell_type": "code",
   "execution_count": 5,
   "metadata": {},
   "outputs": [],
   "source": [
    "guardar_info('Randy','Garcia','22','12347')"
   ]
  }
 ],
 "metadata": {
  "kernelspec": {
   "display_name": "Python 3",
   "language": "python",
   "name": "python3"
  },
  "language_info": {
   "codemirror_mode": {
    "name": "ipython",
    "version": 3
   },
   "file_extension": ".py",
   "mimetype": "text/x-python",
   "name": "python",
   "nbconvert_exporter": "python",
   "pygments_lexer": "ipython3",
   "version": "3.11.9"
  }
 },
 "nbformat": 4,
 "nbformat_minor": 2
}
